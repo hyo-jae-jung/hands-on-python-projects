{
 "cells": [
  {
   "cell_type": "markdown",
   "metadata": {},
   "source": [
    "# use katex in jupyterlab  \n",
    "pip install jupyterlab-katex"
   ]
  },
  {
   "cell_type": "markdown",
   "metadata": {},
   "source": [
    "# Bayes' Rule  \n",
    "$P(A|B) = \\frac{P(B|A) \\cdot P(A)}{P(B)}$\n",
    "\n",
    "# Law of Total Probability  \n",
    "$P(B) = \\displaystyle\\sum_{i}^{} P(A_i \\cap B) = \\displaystyle\\sum_{i}^{} P(B|A_i)\\cdot P(A_i)$"
   ]
  },
  {
   "cell_type": "markdown",
   "metadata": {},
   "source": [
    "# Condition  \n",
    "$P(B|A) = \\frac{800}{1000}$  \n",
    "$P(A^c\\cap B) + P(A \\cap B^c) = \\frac{100}{1000}$  \n",
    "$P(A) = \\frac{50}{10000}$  "
   ]
  },
  {
   "cell_type": "markdown",
   "metadata": {},
   "source": [
    "# Solution\n",
    "$P(A^c\\cap B) + P(A \\cap B^c) = \\frac{100}{1000}$  \n",
    "$P(B|A^c)\\cdot P(A^c) + P(B^c|A)\\cdot P(A) = \\frac{100}{1000}$  \n",
    "$P(B|A^c) = {\\frac{100}{1000} - \\frac{50}{10000}\\cdot(1-\\frac{800}{1000})}\\div (1-\\frac{50}{10000})$  \n"
   ]
  }
 ],
 "metadata": {
  "language_info": {
   "name": "python"
  }
 },
 "nbformat": 4,
 "nbformat_minor": 2
}
