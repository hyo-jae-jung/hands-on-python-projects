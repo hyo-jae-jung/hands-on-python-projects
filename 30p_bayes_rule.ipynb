{
 "cells": [
  {
   "cell_type": "markdown",
   "metadata": {},
   "source": [
    "# use katex in jupyterlab  \n",
    "pip install jupyterlab-katex"
   ]
  },
  {
   "cell_type": "markdown",
   "metadata": {},
   "source": [
    "# Bayes' Rule  \n",
    "$P(A|B) = \\frac{P(B|A) \\cdot P(A)}{P(B)}$\n",
    "\n",
    "# Law of Total Probability  \n",
    "$P(B) = \\displaystyle\\sum_{i}^{} P(A_i \\cap B) = \\displaystyle\\sum_{i}^{} P(B|A_i)\\cdot P(A_i)$"
   ]
  },
  {
   "cell_type": "markdown",
   "metadata": {},
   "source": [
    "# Condition  \n",
    "$P(B|A) = \\frac{800}{1000}$  \n",
    "$P(A^c\\cap B) + P(A \\cap B^c) = \\frac{100}{1000}$  \n",
    "$P(A) = \\frac{50}{10000}$  "
   ]
  },
  {
   "cell_type": "markdown",
   "metadata": {},
   "source": [
    "# Solution\n",
    "$P(A^c\\cap B) + P(A \\cap B^c) = \\frac{100}{1000}$  \n",
    "$P(B|A^c)\\cdot P(A^c) + P(B^c|A)\\cdot P(A) = \\frac{100}{1000}$  \n",
    "$P(B|A^c) = \\{\\frac{100}{1000} - \\frac{50}{10000}\\cdot(1-\\frac{800}{1000})\\}\\div (1-\\frac{50}{10000})$  \n",
    "  \n",
    "$P(A|B) = \\frac{P(B|A)\\cdot P(A)}{P(B)}$  \n",
    "$P(A|B) = \\frac{P(B|A)\\cdot P(A)}{P(A\\cap B)+P(A^c \\cap B)}$  \n",
    "$P(A|B) = \\frac{P(B|A)\\cdot P(A)}{P(B|A)\\cdot P(A)+P(B|A^c)\\cdot P(A^c)}$  \n",
    "$P(A|B) = \\frac{P(B|A)\\cdot P(A)}{P(B|A)\\cdot P(A)+P(B|A^c)\\cdot P(A^c)}$  \n"
   ]
  },
  {
   "cell_type": "code",
   "execution_count": 1,
   "metadata": {},
   "outputs": [
    {
     "name": "stdout",
     "output_type": "stream",
     "text": [
      "0.038834951456310676\n"
     ]
    }
   ],
   "source": [
    "p_ba = 800/1000\n",
    "p_a = 50/10000\n",
    "p_bac = (100/1000 - p_a*(1-p_ba))/(1-p_a)\n",
    "\n",
    "print(p_ba*p_a/(p_ba*p_a+p_bac*(1-p_a)))"
   ]
  }
 ],
 "metadata": {
  "kernelspec": {
   "display_name": "Python 3",
   "language": "python",
   "name": "python3"
  },
  "language_info": {
   "codemirror_mode": {
    "name": "ipython",
    "version": 3
   },
   "file_extension": ".py",
   "mimetype": "text/x-python",
   "name": "python",
   "nbconvert_exporter": "python",
   "pygments_lexer": "ipython3",
   "version": "3.11.0rc1"
  }
 },
 "nbformat": 4,
 "nbformat_minor": 2
}
