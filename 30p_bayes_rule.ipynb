{
 "cells": [
  {
   "cell_type": "markdown",
   "metadata": {},
   "source": [
    "# use katex in jupyterlab  \n",
    "pip install jupyterlab-katex"
   ]
  },
  {
   "cell_type": "markdown",
   "metadata": {},
   "source": [
    "# Bayes' Rule  \n",
    "$P(A|B) = \\frac{P(B|A) \\cdot P(A)}{P(B)}$\n",
    "\n",
    "# Law of Total Probability  \n",
    "$P(B) = \\displaystyle\\sum_{i}^{} P(A_i \\cap B) = \\displaystyle\\sum_{i}^{} P(B|A_i)\\cdot P(A_i)$"
   ]
  },
  {
   "cell_type": "markdown",
   "metadata": {},
   "source": [
    "$P(B|A) = \\frac{800}{1000}$\n",
    "$P(A^c\\cap B) + P(A \\cap B^c) = \\frac{100}{1000}$"
   ]
  }
 ],
 "metadata": {
  "language_info": {
   "name": "python"
  }
 },
 "nbformat": 4,
 "nbformat_minor": 2
}
