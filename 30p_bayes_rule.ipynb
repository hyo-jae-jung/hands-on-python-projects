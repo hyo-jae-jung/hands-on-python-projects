{
 "cells": [
  {
   "cell_type": "markdown",
   "metadata": {},
   "source": [
    "pip install jupyterlab-katex"
   ]
  },
  {
   "cell_type": "markdown",
   "metadata": {},
   "source": [
    "Bayes' Rule\n",
    "$P(A|B) = \\frac{P(B|A) \\cdot P(A)}{P(B)}$\n",
    "\n",
    "Law of Total Probability\n",
    "$P(B) = \\displaystyle\\sum_{i}^{} P(A_i \\cap B) = \\displaystyle\\sum_{i}^{} P(B|A_i)\\cdot P(A_i)$"
   ]
  }
 ],
 "metadata": {
  "language_info": {
   "name": "python"
  }
 },
 "nbformat": 4,
 "nbformat_minor": 2
}
