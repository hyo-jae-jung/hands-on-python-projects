{
 "cells": [
  {
   "cell_type": "markdown",
   "metadata": {},
   "source": [
    "$1+1=2$"
   ]
  }
 ],
 "metadata": {
  "language_info": {
   "name": "python"
  }
 },
 "nbformat": 4,
 "nbformat_minor": 2
}
