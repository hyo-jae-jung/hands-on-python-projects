{
 "cells": [
  {
   "cell_type": "markdown",
   "metadata": {},
   "source": [
    "왜 P(G1) = 1-0.95야?\n",
    "왜냐하면 못찾았으니까. 찾았을 때 기준이면 P(G1)=0.95이고 계산하면 P(G|E) = 1이겠지. 다른 방에서는 안 찾아봤으니까\n",
    "못 찾았으니 못 찾은 확률 기준으로 사후확률을 구해야 하니까 SEP의 역을 P(G)로 설정하고 계산.\n",
    "구해진 사후확률은 다시 찾을 때의 사전확률로 새로운 SEP를 적용해서 동일한 방법으로 계산."
   ]
  }
 ],
 "metadata": {
  "language_info": {
   "name": "python"
  }
 },
 "nbformat": 4,
 "nbformat_minor": 2
}
